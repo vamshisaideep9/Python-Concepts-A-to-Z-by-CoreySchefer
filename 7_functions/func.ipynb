{
 "cells": [
  {
   "cell_type": "markdown",
   "metadata": {},
   "source": [
    "```python\n",
    "In python, Functions are reusable blocks of code that perform a specific task. Functions can be built-in or user-defined.\n",
    "```"
   ]
  },
  {
   "cell_type": "code",
   "execution_count": 5,
   "metadata": {},
   "outputs": [],
   "source": [
    "def func():\n",
    "    pass"
   ]
  },
  {
   "cell_type": "code",
   "execution_count": 17,
   "metadata": {},
   "outputs": [
    {
     "name": "stdout",
     "output_type": "stream",
     "text": [
      "Hello Function\n"
     ]
    }
   ],
   "source": [
    "def hello_func():\n",
    "    print(\"Hello Function\")\n",
    "\n",
    "hello_func()"
   ]
  },
  {
   "cell_type": "code",
   "execution_count": 16,
   "metadata": {},
   "outputs": [
    {
     "name": "stdout",
     "output_type": "stream",
     "text": [
      "Hello function\n"
     ]
    }
   ],
   "source": [
    "def hello():\n",
    "    return 'Hello function'\n",
    "\n",
    "print(hello())"
   ]
  },
  {
   "cell_type": "code",
   "execution_count": 18,
   "metadata": {},
   "outputs": [
    {
     "name": "stdout",
     "output_type": "stream",
     "text": [
      "Hi, vamshi function\n"
     ]
    }
   ],
   "source": [
    "def hello_func(greeting, name):\n",
    "    return f\"{greeting}, {name} function\"\n",
    "\n",
    "print(hello_func('Hi', 'vamshi'))"
   ]
  },
  {
   "cell_type": "markdown",
   "metadata": {},
   "source": [
    "```python\n",
    "*args (Positional arguments): Use args When you are not sure how many positional arguments a function will receive.\n",
    "- It collects arguments into tuples.\n",
    "\n",
    "Eg: \n",
    "def sum_numbers(*args):\n",
    "    return sum(args)\n",
    "\n",
    "print(sum_numbers(1,2,3)) #output: 6\n",
    "\n",
    "\n",
    "**kwargs (Keyword arguments): When you are not sure how many keyword arguments a function will receive.\n",
    "- It collects extra arguments into dictionary.\n",
    "\n",
    "Eg: \n",
    "def print_info(**kwargs):\n",
    "    for key, value in kwargs.items():\n",
    "        print(f\"{key}: {value}\")\n",
    "\n",
    "print_info(name=\"Alice\", age=25, city=\"New York\")\n",
    "\n",
    "#output:\n",
    "#name: Alice\n",
    "#age: 25\n",
    "#city: New York\n",
    "\n",
    "\n",
    "Using both *args and **kwargs\n",
    "\n",
    "def display_details(*args, **kwargs):\n",
    "    print('Positional arguments: ', args)\n",
    "    print('Keyword arguments: ', kwargs)\n",
    "\n",
    "display_details(1,2,3, name=\"bob\", age=22)\n",
    "\n",
    "\n",
    "#output:\n",
    "#positional arguments: (1,2,3)\n",
    "#Keyword: {'name':'bob', 'age':30}\n",
    "\n",
    "\n"
   ]
  },
  {
   "cell_type": "code",
   "execution_count": 20,
   "metadata": {},
   "outputs": [
    {
     "name": "stdout",
     "output_type": "stream",
     "text": [
      "()\n",
      "{}\n"
     ]
    }
   ],
   "source": [
    "def student_info(*args, **kwargs):\n",
    "    print(args)\n",
    "    print(kwargs)\n",
    "\n",
    "student_info()"
   ]
  },
  {
   "cell_type": "code",
   "execution_count": 21,
   "metadata": {},
   "outputs": [
    {
     "name": "stdout",
     "output_type": "stream",
     "text": [
      "('Math', 'Art')\n",
      "{'name': 'john', 'age': 22}\n"
     ]
    }
   ],
   "source": [
    "student_info('Math', 'Art', name='john', age=22)"
   ]
  },
  {
   "cell_type": "code",
   "execution_count": 22,
   "metadata": {},
   "outputs": [],
   "source": [
    "courses = ['math', 'art']\n",
    "info = {'name':'vamshi', 'age':22}"
   ]
  },
  {
   "cell_type": "code",
   "execution_count": 25,
   "metadata": {},
   "outputs": [
    {
     "name": "stdout",
     "output_type": "stream",
     "text": [
      "(['math', 'art'], {'name': 'vamshi', 'age': 22})\n",
      "{}\n"
     ]
    }
   ],
   "source": [
    "student_info(courses, info)"
   ]
  },
  {
   "cell_type": "code",
   "execution_count": null,
   "metadata": {},
   "outputs": [],
   "source": [
    "#TO unpack those values use * and **\n",
    "student_info(*courses, **info)"
   ]
  }
 ],
 "metadata": {
  "kernelspec": {
   "display_name": "Python 3",
   "language": "python",
   "name": "python3"
  },
  "language_info": {
   "codemirror_mode": {
    "name": "ipython",
    "version": 3
   },
   "file_extension": ".py",
   "mimetype": "text/x-python",
   "name": "python",
   "nbconvert_exporter": "python",
   "pygments_lexer": "ipython3",
   "version": "3.12.6"
  }
 },
 "nbformat": 4,
 "nbformat_minor": 2
}
