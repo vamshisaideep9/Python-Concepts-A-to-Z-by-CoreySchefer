{
 "cells": [
  {
   "cell_type": "markdown",
   "metadata": {},
   "source": [
    "```python\n",
    "\n",
    "TO install pip\n",
    "- python -m ensurepip --default-pip\n",
    "\n",
    "\n",
    "1. pip help\n",
    "2. pip help <command>\n",
    "3. pip search <Package name>\n",
    "#4. pip install <package name> ---> depreciated\n",
    "5. pip list # all pakages that are installed\n",
    "6. pip uninstall <package name>\n",
    "7. pip list -o #current and updated versions of packages\n",
    "8. pip install -u <package name> #update package\n",
    "9. pip freeze #all packages with their versions\n",
    "10. pip freeze > requirements.txt\n",
    "\n",
    "\n",
    "11. pip install pip_search\n",
    "12. pip_search <package name>\n",
    "\n",
    "To update current versions of packages to the updated versions use:\n",
    "\n",
    "13. pip freeze --local | ForEach-Object { $_.Split('=')[0] } | ForEach-Object { pip install --upgrade $_ }  ---> For windows powershell\n",
    "\n",
    "Alternate Method To update versions of the packages \n",
    "14. pip install pip-review\n",
    "15. pip-review --auto\n",
    "\n",
    "\n",
    "\n",
    "\n",
    "\n",
    "\n",
    "```"
   ]
  }
 ],
 "metadata": {
  "kernelspec": {
   "display_name": "Python 3",
   "language": "python",
   "name": "python3"
  },
  "language_info": {
   "codemirror_mode": {
    "name": "ipython",
    "version": 3
   },
   "file_extension": ".py",
   "mimetype": "text/x-python",
   "name": "python",
   "nbconvert_exporter": "python",
   "pygments_lexer": "ipython3",
   "version": "3.12.6"
  }
 },
 "nbformat": 4,
 "nbformat_minor": 2
}
